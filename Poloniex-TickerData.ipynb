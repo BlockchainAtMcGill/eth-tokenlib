{
 "cells": [
  {
   "cell_type": "code",
   "execution_count": 23,
   "metadata": {},
   "outputs": [
    {
     "name": "stdout",
     "output_type": "stream",
     "text": [
      "300&resolution=auto\n",
      "USDC_XMR\n",
      "USDC_BTC\n",
      "USDC_ETH\n",
      "USDC_LTC\n",
      "USDC_BCH\n",
      "USDC_XRP\n",
      "USDC_USDT\n"
     ]
    }
   ],
   "source": [
    "import requests \n",
    "import json\n",
    "import csv\n",
    "import time\n",
    "\n",
    "#setting standards for api request URL\n",
    "urlstandard=\"https://poloniex.com/public?command=returnChartData&\"\n",
    "maximumretrievetime=\"&resolution=auto\"\n",
    "period=\"300\"\n",
    "\n",
    "#dictionary which holds key as Currency Paid highlighted in Poloniex and value as inception date of currency(UNIX Timestamp)\n",
    "crypto = {\n",
    "    \"USDC_XMR\" : \"1397804400\",\n",
    "    \"USDC_BTC\" : \"1242950400\",\n",
    "    \"USDC_ETH\" : \"1438214400\",\n",
    "    \"USDC_LTC\" : \"1319932800\",\n",
    "    \"USDC_BCH\" : \"1501545600\",\n",
    "    \"USDC_XRP\" : \"1515628800\",\n",
    "    \"USDC_USDT\":\"1407974400\",\n",
    "}\n",
    "\n",
    "#traversing through every currency pair available to generate OHLCV data\n",
    "for key,val in crypto.items():\n",
    "    #generating dynamic Public HTTP Api request for relevant currency\n",
    "    url=urlstandard+\"currencyPair=\"+key+\"&start=\"+val+maximumretrievetime+\"&period=\"+period\n",
    "    r = requests.get(url) \n",
    "    crypto_json = json.loads(r.text)\n",
    "    with open(key+'.csv', 'a') as csvfile:\n",
    "    \n",
    "        writer = csv.writer(csvfile)\n",
    "\n",
    "        writer.writerow(crypto_json[0].keys())  # header row\n",
    "\n",
    "        for row in crypto_json:\n",
    "            writer.writerow(row.values()) #values row\n",
    "\n",
    "    csvfile.close()"
   ]
  }
 ],
 "metadata": {
  "kernelspec": {
   "display_name": "Python 3",
   "language": "python",
   "name": "python3"
  },
  "language_info": {
   "codemirror_mode": {
    "name": "ipython",
    "version": 3
   },
   "file_extension": ".py",
   "mimetype": "text/x-python",
   "name": "python",
   "nbconvert_exporter": "python",
   "pygments_lexer": "ipython3",
   "version": "3.6.5"
  }
 },
 "nbformat": 4,
 "nbformat_minor": 2
}
