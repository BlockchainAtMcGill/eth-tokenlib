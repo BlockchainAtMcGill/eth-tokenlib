{
 "cells": [
  {
   "cell_type": "code",
   "execution_count": null,
   "metadata": {},
   "outputs": [],
   "source": [
    "import time\n",
    "import datetime\n",
    "import json\n",
    "import requests\n",
    "import csv"
   ]
  },
  {
   "cell_type": "code",
   "execution_count": null,
   "metadata": {},
   "outputs": [],
   "source": [
    "#####XLM MINUTELY DATA COLLECTOR#####\n",
    "curr_ms = int(time.time()*1000) #time in milli epoch when program is run\n",
    "hours_ms = 86400000 #add this to get exactly one day later in epoch\n",
    "num_call = 1406790000000 #inception date: July 31, 2014 \n",
    "end = num_call + hours_ms\n",
    "\n",
    "coincap_url = 'http://api.coincap.io/v2/candles'\n",
    "\n",
    "while num_call < curr_ms:\n",
    "    if end > curr_ms:\n",
    "        end = curr_ms\n",
    "    coincap_params = {\n",
    "    'exchange':'kraken',\n",
    "    'interval':'m1',\n",
    "    'baseId':'stellar', # Pair is reversed, meaning that base pair USD means quoteId instead and vice versa\n",
    "    'quoteId':'united-states-dollar'\n",
    "    ,'start': num_call\n",
    "    ,'end': end\n",
    "    }\n",
    "    coincap_data = requests.get(coincap_url, coincap_params)\n",
    "    coincap_json = json.loads(coincap_data.text)\n",
    "    coincap_ohlcv = coincap_json['data']\n",
    "    if __name__ == \"__main__\" and any(coincap_ohlcv):\n",
    "        with open('coincap_xlm.csv', 'a') as csvfile:\n",
    "            fieldnames = coincap_ohlcv[0].keys()\n",
    "            writer = csv.DictWriter(csvfile, fieldnames=fieldnames)\n",
    "            fileEmpty = os.stat('coincap_xlm.csv').st_size == 0\n",
    "            if fileEmpty:\n",
    "                writer.writeheader()\n",
    "            for i in range (0,len(coincap_ohlcv)):\n",
    "                writer.writerow(coincap_ohlcv[i])\n",
    "        print('Completed')\n",
    "    num_call += hours_ms\n",
    "    end += hours_ms\n",
    "print('Done')"
   ]
  },
  {
   "cell_type": "code",
   "execution_count": null,
   "metadata": {},
   "outputs": [],
   "source": [
    "#####XMR MINUTELY DATA COLLECTOR#####\n",
    "curr_ms = int(time.time()*1000) #time in milli epoch when program is run\n",
    "hours_ms = 86400000 #add this to get exactly one day later in epoch\n",
    "num_call = 1397804400000 #inception date: April 18th 2014 \n",
    "end = num_call + hours_ms\n",
    "\n",
    "coincap_url = 'http://api.coincap.io/v2/candles'\n",
    "\n",
    "while num_call < curr_ms:\n",
    "    if end > curr_ms:\n",
    "        end = curr_ms\n",
    "    coincap_params = {\n",
    "    'exchange':'kraken',\n",
    "    'interval':'m1',\n",
    "    'baseId':'monero', # Pair is reversed, meaning that base pair USD means quoteId instead and vice versa\n",
    "    'quoteId':'united-states-dollar'\n",
    "    ,'start': num_call\n",
    "    ,'end': end\n",
    "    }\n",
    "    coincap_data = requests.get(coincap_url, coincap_params)\n",
    "    coincap_json = json.loads(coincap_data.text)\n",
    "    coincap_ohlcv = coincap_json['data']\n",
    "    if __name__ == \"__main__\" and any(coincap_ohlcv):\n",
    "        with open('coincap_xmr.csv', 'a') as csvfile:\n",
    "            fieldnames = coincap_ohlcv[0].keys()\n",
    "            writer = csv.DictWriter(csvfile, fieldnames=fieldnames)\n",
    "            fileEmpty = os.stat('coincap_xmr.csv').st_size == 0\n",
    "            if fileEmpty:\n",
    "                writer.writeheader()\n",
    "            for i in range (0,len(coincap_ohlcv)):\n",
    "                writer.writerow(coincap_ohlcv[i])\n",
    "        print('Completed')\n",
    "    num_call += hours_ms\n",
    "    end += hours_ms\n",
    "print('Done')"
   ]
  }
 ],
 "metadata": {
  "kernelspec": {
   "display_name": "Python 3",
   "language": "python",
   "name": "python3"
  },
  "language_info": {
   "codemirror_mode": {
    "name": "ipython",
    "version": 3
   },
   "file_extension": ".py",
   "mimetype": "text/x-python",
   "name": "python",
   "nbconvert_exporter": "python",
   "pygments_lexer": "ipython3",
   "version": "3.6.4"
  }
 },
 "nbformat": 4,
 "nbformat_minor": 2
}
