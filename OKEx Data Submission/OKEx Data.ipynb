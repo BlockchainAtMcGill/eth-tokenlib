{
 "cells": [
  {
   "cell_type": "code",
   "execution_count": 37,
   "metadata": {},
   "outputs": [],
   "source": [
    "import requests \n",
    "import json\n",
    "import csv\n",
    "import time\n",
    "\n",
    "#setting standards for api request URL\n",
    "urlstandard=\"https://www.okex.com/api/spot/v3/instruments\"\n",
    "beginning = \"86400\"\n",
    "\n",
    "crypto = {\n",
    "    \"XMR-USDT\" : \"1397804400\",\n",
    "    \"BTC-USDT\" : \"1242950400\",\n",
    "    \"ETH-USDT\" : \"1438214400\",\n",
    "    \"LTC-USDT\" : \"1319932800\",\n",
    "    \"BCH-USDT\" : \"1501545600\",\n",
    "    \"XRP-USDT\" : \"1515628800\",\n",
    "    \"EOS-USDT\" : \"1517382000\",\n",
    "    \"ZRX-USDT\" : \"1539241200\",\n",
    "    \"XLM-USDT\" : \"1406790000\",\n",
    "}\n",
    "\n",
    "#traversing through every currency pair available to generate OHLCV data\n",
    "for key,val in crypto.items():\n",
    "    #generating dynamic Public HTTP Api request for relevant currency\n",
    "    url=urlstandard+\"/\"+key+\"/\"+\"candles?granularity=\"+beginning+\"&start=\"+val+\"&end=\"\n",
    "    \n",
    "    #print(url)\n",
    "    \n",
    "    r = requests.get(url) \n",
    "    crypto_json = json.loads(r.text) #Possesses a list of lists \n",
    "\n",
    "    keys = ['Time', 'Open', 'High','Low','Close','Volume'] #Values we want to map to\n",
    "    \n",
    "    #We want a list of dictionaries\n",
    "    \n",
    "    dataDict = [dict(zip(keys, l)) for l in crypto_json] #map values in each index to the keys\n",
    "    #print(dataDict)\n",
    "    \n",
    "    with open(key+'.csv', 'a') as csvfile:\n",
    "        \n",
    "        writer = csv.writer(csvfile)\n",
    "        \n",
    "        writer.writerow(dataDict[0].keys())  # header row\n",
    "\n",
    "        for row in dataDict:\n",
    "            writer.writerow(row.values()) #values row\n",
    "\n",
    "    csvfile.close()"
   ]
  },
  {
   "cell_type": "code",
   "execution_count": 5,
   "metadata": {},
   "outputs": [],
   "source": [
    "#https://www.okex.com/api\n"
   ]
  }
 ],
 "metadata": {
  "kernelspec": {
   "display_name": "Python 3",
   "language": "python",
   "name": "python3"
  },
  "language_info": {
   "codemirror_mode": {
    "name": "ipython",
    "version": 3
   },
   "file_extension": ".py",
   "mimetype": "text/x-python",
   "name": "python",
   "nbconvert_exporter": "python",
   "pygments_lexer": "ipython3",
   "version": "3.6.5"
  }
 },
 "nbformat": 4,
 "nbformat_minor": 2
}
