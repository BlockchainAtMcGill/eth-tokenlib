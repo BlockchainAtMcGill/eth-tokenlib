{
 "cells": [
  {
   "cell_type": "code",
   "execution_count": null,
   "metadata": {},
   "outputs": [],
   "source": [
    "import time\n",
    "import datetime\n",
    "import json\n",
    "import requests\n",
    "import csv"
   ]
  },
  {
   "cell_type": "code",
   "execution_count": null,
   "metadata": {},
   "outputs": [],
   "source": [
    "def waitToNextMonth():\n",
    "    #Wait to next month 1st @ 00:00 am\n",
    "    now = datetime.datetime.now()\n",
    "    nextM = now.month + 1\n",
    "    year = now.year\n",
    "    if nextM = 13:\n",
    "        nextM = 1\n",
    "        year += 1\n",
    "    \n",
    "    nextM_date = datetime.datetime(year, nextM, 1, 0, 0, 0, 0)\n",
    "    delta = nextM_date - datetime.datetime.now()\n",
    "    time.sleep(delta.seconds)"
   ]
  },
  {
   "cell_type": "code",
   "execution_count": null,
   "metadata": {},
   "outputs": [],
   "source": [
    "#####XLM HOURLY DATA#####\n",
    "#Results: time, close, high, low, open, volumefrom, volumeto\n",
    "#Parsed to: time, open\n",
    "limit = 7200000\n",
    "curr = int(time.time()) #time when run OR change this to any wanted date\n",
    "curr_check = curr\n",
    "start_xlm = 1406790000 #inception date: July 31, 2014\n",
    "crypto_url = 'https://min-api.cryptocompare.com/data/histohour'\n",
    "crypto_key = '0fb469292023662dc7bd871c81707dbed248afcb2865ef174455a9fdc19fdfad'\n",
    "counter = 0\n",
    "\n",
    "while curr > start_xlm :\n",
    "    counter += 1 #checks for monthly limit -- if over, sleeps until the first of the next month\n",
    "    if counter >= 100000: \n",
    "        waitToNextMonth()\n",
    "        counter = 0\n",
    "    crypto_params = {\n",
    "    'key': crypto_key,\n",
    "    'e':'Kraken',\n",
    "    'fsym':'XLM',\n",
    "    'tsym':'USD',\n",
    "    'toTs':curr,\n",
    "    'limit':'2000'\n",
    "    }\n",
    "    crypto_data = requests.get(crypto_url, crypto_params)\n",
    "    crypto_json = json.loads(crypto_data.text)\n",
    "    crypto_ohlcv = crypto_json['Data']\n",
    "    if __name__ == \"__main__\" and any(crypto_ohlcv): #only adds to csv file if there is data in the dict\n",
    "        with open('crypto_xlm.csv', 'a') as csvfile:\n",
    "            fieldnames = ['time','open']\n",
    "            writer = csv.DictWriter(csvfile, fieldnames=fieldnames, extrasaction='ignore')\n",
    "            if curr is curr_check:\n",
    "                writer.writeheader()\n",
    "            for i in range (0,len(crypto_ohlcv)):\n",
    "                writer.writerow(crypto_ohlcv[i])\n",
    "        print('Completed')\n",
    "    curr -= limit\n",
    "print('Done')"
   ]
  },
  {
   "cell_type": "code",
   "execution_count": null,
   "metadata": {},
   "outputs": [],
   "source": [
    "#####XMR HOURLY DATA#####\n",
    "curr = int(time.time()) #time when run OR change this to any wanted date\n",
    "curr_check = curr\n",
    "start_xmr = 1397804400 #inception date: April 18th 2014\n",
    "counter = 0\n",
    "\n",
    "while curr > start_xmr:\n",
    "    counter += 1\n",
    "    if counter >= 100000: \n",
    "        waitToNextMonth()\n",
    "        counter = 0\n",
    "    crypto_params = {\n",
    "    'key': crypto_key,\n",
    "    'e':'Kraken',\n",
    "    'fsym':'XMR',\n",
    "    'tsym':'USD',\n",
    "    'toTs':curr,\n",
    "    'limit':'2000'\n",
    "    }\n",
    "    crypto_data = requests.get(crypto_url, crypto_params)\n",
    "    crypto_json = json.loads(crypto_data.text)\n",
    "    crypto_ohlcv = crypto_json['Data']\n",
    "    if __name__ == \"__main__\" and any(crypto_ohlcv): #only adds to csv file if there is data in the dict\n",
    "        with open('crypto_xmr.csv', 'a') as csvfile:\n",
    "            fieldnames = ['time','open']\n",
    "            writer = csv.DictWriter(csvfile, fieldnames=fieldnames, extrasaction='ignore')\n",
    "            if curr is curr_check:\n",
    "                writer.writeheader()\n",
    "            for i in range (0,len(crypto_ohlcv)):\n",
    "                writer.writerow(crypto_ohlcv[i])\n",
    "        print('Completed')\n",
    "    curr -= limit\n",
    "print('Done')"
   ]
  }
 ],
 "metadata": {
  "kernelspec": {
   "display_name": "Python 3",
   "language": "python",
   "name": "python3"
  },
  "language_info": {
   "codemirror_mode": {
    "name": "ipython",
    "version": 3
   },
   "file_extension": ".py",
   "mimetype": "text/x-python",
   "name": "python",
   "nbconvert_exporter": "python",
   "pygments_lexer": "ipython3",
   "version": "3.6.4"
  }
 },
 "nbformat": 4,
 "nbformat_minor": 2
}
